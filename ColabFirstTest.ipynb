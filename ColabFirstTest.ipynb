{
  "nbformat": 4,
  "nbformat_minor": 0,
  "metadata": {
    "colab": {
      "provenance": [],
      "authorship_tag": "ABX9TyPW6PGjdKYnqY556CMiEcoQ",
      "include_colab_link": true
    },
    "kernelspec": {
      "name": "python3",
      "display_name": "Python 3"
    },
    "language_info": {
      "name": "python"
    }
  },
  "cells": [
    {
      "cell_type": "markdown",
      "metadata": {
        "id": "view-in-github",
        "colab_type": "text"
      },
      "source": [
        "<a href=\"https://colab.research.google.com/github/Sandipisme/Colab_AI_python/blob/main/ColabFirstTest.ipynb\" target=\"_parent\"><img src=\"https://colab.research.google.com/assets/colab-badge.svg\" alt=\"Open In Colab\"/></a>"
      ]
    },
    {
      "cell_type": "code",
      "execution_count": 1,
      "metadata": {
        "colab": {
          "base_uri": "https://localhost:8080/"
        },
        "id": "wUPANblrvU2R",
        "outputId": "6d06eb8b-8bfb-4896-e525-3bad28e2ed62"
      },
      "outputs": [
        {
          "output_type": "stream",
          "name": "stdout",
          "text": [
            "hello world!\n"
          ]
        }
      ],
      "source": [
        "print(\"hello world!\")"
      ]
    },
    {
      "cell_type": "code",
      "source": [
        "# Define variable\n",
        "SavingsAccount = 1100\n",
        "\n",
        "print(SavingsAccount % 500) # -> 100\n",
        "# 1100 = 500 * 2 + 100, so 1100 % 500 = remainder = 100\n",
        "\n",
        "print(9 ** 3) # -> 729, 9*9*9 = 729\n",
        "\n",
        "print(SavingsAccount // 500) # -> 2\n",
        "# 1100 = 500 * 2 + 100, so 1100 // 500 = integer division result = 2*"
      ],
      "metadata": {
        "colab": {
          "base_uri": "https://localhost:8080/"
        },
        "id": "YuS9vtQXxwvu",
        "outputId": "d0133777-4512-498a-8a2c-794f22ca615b"
      },
      "execution_count": 6,
      "outputs": [
        {
          "output_type": "stream",
          "name": "stdout",
          "text": [
            "100\n",
            "729\n",
            "2\n"
          ]
        }
      ]
    },
    {
      "cell_type": "code",
      "source": [],
      "metadata": {
        "id": "yJJsovuHy0z4"
      },
      "execution_count": null,
      "outputs": []
    }
  ]
}